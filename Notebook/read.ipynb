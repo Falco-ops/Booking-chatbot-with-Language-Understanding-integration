{
 "cells": [
  {
   "cell_type": "code",
   "execution_count": null,
   "metadata": {},
   "outputs": [],
   "source": []
  },
  {
   "cell_type": "markdown",
   "metadata": {},
   "source": [
    "## Instruction for deployment\n",
    "See the instruction list from Azure : [deploy your bot to Azure](https://aka.ms/azuredeployment)  \n",
    "* Create ressource using the ARM template.  \n",
    "Enable Git in the app by adding `--deployment-local-git` when running [az webapp create](https://learn.microsoft.com/en-us/cli/azure/webapp#az-webapp-create)  \n",
    "* Create zip file containing requirements.txt  \n",
    "* Publish with Azure CLI  \n",
    "```console\n",
    "az webapp deployment source config-zip --resource-group \"<resource-group-name>\" --name \"<name-of-app-service>\" --src \"<project-zip-path>\"\n",
    "```\n",
    "\n",
    "## Use Git action for continuous deployment\n",
    "Deployment from github repository:  \n",
    "`az webapp deployment source config-local-git --name <app-name> --resource-group <group-name>`  \n",
    "* Configure an Azure publish profile and create an `AZURE_WEBAPP_PUBLISH_PROFILE` secret.  \n",
    "\n",
    "Generate your Azure deployment credentials using a publish profile. For more information, see \"[Generate deployment credentials](https://docs.microsoft.com/azure/app-service/deploy-github-actions?tabs=applevel#generate-deployment-credentials)\" in the Azure documentation.  \n",
    "\n",
    "In your GitHub repository (Settinfs>Secrets>Action), create a secret named `AZURE_WEBAPP_PUBLISH_PROFILE` that contains the contents of the publish profile.  \n",
    "* Add YAML workflow  \n",
    "Go to your repository Actions > set up workflow yourself > copy paste the template available [here](https://docs.github.com/en/actions/deployment/deploying-to-your-cloud-provider/deploying-to-azure/deploying-python-to-azure-app-service)  \n",
    "For editing :   \n",
    "github action for Azure can be found [here](https://github.com/marketplace?query=Azure&type=actions)  \n",
    "List of action to trigger deployment can be found [here](https://docs.github.com/en/actions/using-workflows/workflow-syntax-for-github-actions) "
   ]
  },
  {
   "cell_type": "markdown",
   "metadata": {},
   "source": []
  }
 ],
 "metadata": {
  "kernelspec": {
   "display_name": "Python 3.9.13 64-bit (microsoft store)",
   "language": "python",
   "name": "python3"
  },
  "language_info": {
   "name": "python",
   "version": "3.9.13"
  },
  "orig_nbformat": 4,
  "vscode": {
   "interpreter": {
    "hash": "3961317e075ff85c0c69352ca58532852735e39ff98091f9dea85bdbdc6f8ac3"
   }
  }
 },
 "nbformat": 4,
 "nbformat_minor": 2
}
