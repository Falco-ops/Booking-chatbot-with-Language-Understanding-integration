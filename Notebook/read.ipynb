{
 "cells": [
  {
   "cell_type": "code",
   "execution_count": null,
   "metadata": {},
   "outputs": [],
   "source": []
  },
  {
   "cell_type": "markdown",
   "metadata": {},
   "source": [
    "# Project 10 build a chatbot\n",
    "\n",
    "## Overview\n",
    "This project purpose is to build and end-to-end machine learning product that help a user book a flight. It integrates Azure Cognitive Servies [LUIS](https://www.luis.ai) for Natural Language Processsing, Azure Web App for deployemnt, [Azure Application insights](https://docs.microsoft.com/en-us/azure/azure-monitor/app/app-insights-overview) for performance monitoring and [Microsoft Bot Framework](https://dev.botframework.com) for developement.\n",
    "\n",
    "## Main feature of the chatbot\n",
    "* Welcome card\n",
    "* Detect intention and request features in user request\n",
    "* Ask for missing information\n",
    "* Prompt for confirmation\n",
    "* Booking card simulating flight result\n",
    "* Data validation :  \n",
    "      - [Text recognizer](https://github.com/microsoft/Recognizers-Text/tree/master/Python) from microsoft  \n",
    "      - check for date coherency  \n",
    "      - detect currency  \n",
    "* Prompt multi-choice if user intent is not detected\n",
    "\n",
    "## Frame Dataset\n",
    "**Presentation** : The dialogues in Frames were collected in a Wizard-of-Oz fashion. Two humans talked to each other via a chat interface. One was playing the role of the user and the other one was playing the role of the conversational agent. We call the latter a wizard as a reference to the Wizard of Oz, the man behind the curtain. The wizards had access to a database of 250+ packages, each composed of a hotel and round-trip flights. We gave users a few constraints for each dialogue and we asked them to find the best deal. This resulted in complex dialogues where a user would often consider different options, compare packages, and progressively build the description of her ideal trip.\n",
    "\n",
    "[Download dataset](https://www.microsoft.com/en-us/research/project/frames-dataset/)\n",
    "\n",
    "See [Notebook](https://github.com/Falco-ops/OPCR_Booking_bot/blob/master/Notebook/proj10_data_analyse.ipynb) to clean the data and export it to the correct format to train the LUIS App.\n",
    "\n",
    "## Import repository\n",
    "```bash\n",
    "git clone https://github.com/Falco-ops/OPCR_Booking_bot\n",
    "\n",
    "```\n",
    "\n",
    "\n",
    "## Install dependencies\n",
    "Create virtual envrionment and instal dependencies\n",
    "```console\n",
    "#create env\n",
    "#python3 -m venv bot_env\n",
    "\n",
    "#install dependencies\n",
    "pip install -r requirements.txt\n",
    "```\n",
    "\n",
    "## Create a LUIS Application to enable language understanding\n",
    "The LUIS model for this example can be found under `CognitiveModels/FlightBooking.json` and the LUIS language model setup, training, and application configuration steps can be found [here](https://docs.microsoft.com/en-us/azure/bot-service/bot-builder-howto-v4-luis?view=azure-bot-service-4.0&tabs=cs).\n",
    "\n",
    "## Testing the Bot with Emulator\n",
    "Bot Framework Emulator is a desktop application that allows bot developers to test and debug their bots on localhost or running remotely through a tunnel.\n",
    "* Install [here](https://github.com/Microsoft/BotFramework-Emulator/releases)\n",
    "\n",
    "To connect the bot using the bot Framework:\n",
    "* Activate your environment\n",
    "```console\n",
    "bot_env\\Scripts\\activate.bat\n",
    "```\n",
    "* Run the bot with\n",
    "```Console\n",
    "python app.py\n",
    "```\n",
    "* Lauch Bot Framework Emulator\n",
    "* file -> Open Bot\n",
    "* Entre the Bot URL `http://localhost:3978/api/messages`\n",
    "\n",
    "## Instruction for deployment\n",
    "See the instruction list from Azure : [deploy your bot to Azure](https://aka.ms/azuredeployment)\n",
    "\n",
    "\n",
    "## Documentation\n",
    "\n",
    "- [Bot Framework Documentation](https://docs.botframework.com)\n",
    "- [Bot Basics](https://docs.microsoft.com/azure/bot-service/bot-builder-basics?view=azure-bot-service-4.0)\n",
    "- [Azure Bot Service Introduction](https://docs.microsoft.com/azure/bot-service/bot-service-overview-introduction?view=azure-bot-service-4.0)\n",
    "- [Azure Bot Service Documentation](https://docs.microsoft.com/azure/bot-service/?view=azure-bot-service-4.0)\n",
    "- [Azure Portal](https://portal.azure.com)\n",
    "- [Language Understanding using LUIS](https://docs.microsoft.com/en-us/azure/cognitive-services/luis/)\n",
    "- [Channels and Bot Connector Service](https://docs.microsoft.com/en-us/azure/bot-service/bot-concepts?view=azure-bot-service-4.0)\n",
    "- [Azure App Insight documentation](https://docs.microsoft.com/en-us/azure/azure-monitor/app/app-insights-overview)\n",
    "- [Deploy the bot to Azure](https://aka.ms/azuredeployment)\n",
    "\n",
    "\n"
   ]
  },
  {
   "cell_type": "markdown",
   "metadata": {},
   "source": []
  }
 ],
 "metadata": {
  "kernelspec": {
   "display_name": "Python 3.9.13 64-bit (microsoft store)",
   "language": "python",
   "name": "python3"
  },
  "language_info": {
   "name": "python",
   "version": "3.9.13"
  },
  "orig_nbformat": 4,
  "vscode": {
   "interpreter": {
    "hash": "3961317e075ff85c0c69352ca58532852735e39ff98091f9dea85bdbdc6f8ac3"
   }
  }
 },
 "nbformat": 4,
 "nbformat_minor": 2
}
